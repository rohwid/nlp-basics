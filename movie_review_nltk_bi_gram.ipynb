{
 "cells": [
  {
   "cell_type": "markdown",
   "metadata": {},
   "source": [
    "# Movie Review with NLTK (Bi-gram Features)\n",
    "\n",
    "N-grams are common terms in text processing and analysis. N-grams are related with words of a text. There are different n-grams like unigram, bigram, trigram, etc.\n",
    "\n",
    "+ Unigram = Item having a single word, i.e. the n-gram of size 1. For example, good.\n",
    "+ Bigram = Item having two words, i.e. the n-gram of size 2. For example, very good.\n",
    "+ Trigram = Item having three words, i.e. the n-gram of size 3. For example, not so good.\n",
    "\n",
    "In the above bag-of-words model, we only used the unigram feature. In the example below, we will use both unigram and bigram feature, i.e. we will deal with both single words and double words."
   ]
  },
  {
   "cell_type": "markdown",
   "metadata": {},
   "source": [
    "## Feature Extraction\n",
    "\n",
    "In this case, both unigrams and bigrams are used as features.\n",
    "\n",
    "We define two functions:\n",
    "\n",
    "+ bag_of_words: that extracts only unigram features from the movie review words\n",
    "+ bag_of_ngrams: that extracts only bigram features from the movie review words\n",
    "\n",
    "We then define another function:\n",
    "\n",
    "+ bag_of_all_words: that combines both unigram and bigram features"
   ]
  },
  {
   "cell_type": "code",
   "execution_count": 3,
   "metadata": {},
   "outputs": [],
   "source": [
    "from nltk import ngrams\n",
    "from nltk.corpus import stopwords \n",
    "import string\n",
    " \n",
    "stopwords_english = stopwords.words('english')\n",
    "\n",
    "# clean words, remove stopwords and punctuation\n",
    "def clean_words(words, stopwords_english):\n",
    "    words_clean = []\n",
    "    \n",
    "    for word in words:\n",
    "        word = word.lower()\n",
    "    \n",
    "        if word not in stopwords_english and word not in string.punctuation:\n",
    "            words_clean.append(word)    \n",
    "    \n",
    "    return words_clean\n",
    "\n",
    "\n",
    "# feature extractor function for unigram\n",
    "def bag_of_words(words):    \n",
    "    \n",
    "    words_dictionary = dict([word, True] for word in words)    \n",
    "    \n",
    "    return words_dictionary\n",
    "\n",
    "\n",
    "# feature extractor function for ngrams (bigram)\n",
    "def bag_of_ngrams(words, n=2):\n",
    "    words_ng = []\n",
    "    \n",
    "    for item in iter(ngrams(words, n)):\n",
    "        words_ng.append(item)\n",
    "    \n",
    "    words_dictionary = dict([word, True] for word in words_ng)    \n",
    "    \n",
    "    return words_dictionary"
   ]
  },
  {
   "cell_type": "markdown",
   "metadata": {},
   "source": [
    "#### Example of `bag_of_ngrams` function"
   ]
  },
  {
   "cell_type": "code",
   "execution_count": 4,
   "metadata": {},
   "outputs": [
    {
     "name": "stdout",
     "output_type": "stream",
     "text": [
      "['it', 'was', 'a', 'very', 'good', 'movie', '.']\n"
     ]
    }
   ],
   "source": [
    "from nltk.tokenize import word_tokenize\n",
    "\n",
    "text = \"It was a very good movie.\"\n",
    "words = word_tokenize(text.lower())\n",
    "\n",
    "# Test tokenization\n",
    "print(words)"
   ]
  },
  {
   "cell_type": "code",
   "execution_count": 5,
   "metadata": {},
   "outputs": [
    {
     "name": "stdout",
     "output_type": "stream",
     "text": [
      "{('it', 'was'): True, ('was', 'a'): True, ('a', 'very'): True, ('very', 'good'): True, ('good', 'movie'): True, ('movie', '.'): True}\n"
     ]
    }
   ],
   "source": [
    "print(bag_of_ngrams(words))"
   ]
  },
  {
   "cell_type": "markdown",
   "metadata": {},
   "source": [
    "#### Example of `clean_words` function"
   ]
  },
  {
   "cell_type": "code",
   "execution_count": 7,
   "metadata": {},
   "outputs": [
    {
     "name": "stdout",
     "output_type": "stream",
     "text": [
      "['good', 'movie']\n"
     ]
    }
   ],
   "source": [
    "words_clean = clean_words(words, stopwords_english)\n",
    "\n",
    "print(words_clean)"
   ]
  },
  {
   "cell_type": "markdown",
   "metadata": {},
   "source": [
    "### Use `important_words` for Bi-grams"
   ]
  },
  {
   "cell_type": "code",
   "execution_count": 8,
   "metadata": {},
   "outputs": [
    {
     "name": "stdout",
     "output_type": "stream",
     "text": [
      "['very', 'good', 'movie']\n"
     ]
    }
   ],
   "source": [
    "# Add more important words for bigrams from stopwords\n",
    "important_words = ['above', 'below', 'off', 'over', 'under', 'more', 'most', 'such', 'no', \n",
    "                   'nor', 'not', 'only', 'so', 'than', 'too', 'very', 'just', 'but']\n",
    "\n",
    "stopwords_english_for_bigrams = set(stopwords_english) - set(important_words)\n",
    "\n",
    "words_clean_for_bigrams = clean_words(words, stopwords_english_for_bigrams)\n",
    "print(words_clean_for_bigrams)"
   ]
  },
  {
   "cell_type": "markdown",
   "metadata": {},
   "source": [
    "#### Example about work with unigram"
   ]
  },
  {
   "cell_type": "code",
   "execution_count": 9,
   "metadata": {},
   "outputs": [
    {
     "name": "stdout",
     "output_type": "stream",
     "text": [
      "{'good': True, 'movie': True}\n"
     ]
    }
   ],
   "source": [
    "# We will use general stopwords for unigrams \n",
    "# And special stopwords list for bigrams\n",
    "unigram_features = bag_of_words(words_clean)\n",
    "\n",
    "print(unigram_features)"
   ]
  },
  {
   "cell_type": "markdown",
   "metadata": {},
   "source": [
    "#### Test about work with Bi-grams"
   ]
  },
  {
   "cell_type": "code",
   "execution_count": 10,
   "metadata": {},
   "outputs": [
    {
     "name": "stdout",
     "output_type": "stream",
     "text": [
      "{('very', 'good'): True, ('good', 'movie'): True}\n"
     ]
    }
   ],
   "source": [
    "bigram_features = bag_of_ngrams(words_clean_for_bigrams)\n",
    "print(bigram_features)"
   ]
  },
  {
   "cell_type": "markdown",
   "metadata": {},
   "source": [
    "#### Example about combining unigrams and Bi-grams"
   ]
  },
  {
   "cell_type": "code",
   "execution_count": 11,
   "metadata": {},
   "outputs": [
    {
     "name": "stdout",
     "output_type": "stream",
     "text": [
      "{'good': True, 'movie': True, ('very', 'good'): True, ('good', 'movie'): True}\n"
     ]
    }
   ],
   "source": [
    "# combine both unigram and bigram features\n",
    "all_features = unigram_features.copy()\n",
    "all_features.update(bigram_features)\n",
    "\n",
    "print(all_features)"
   ]
  },
  {
   "cell_type": "markdown",
   "metadata": {},
   "source": [
    "### Main Function\n",
    "\n",
    "let's define a new function that extracts all features that extracts both unigram and bigrams features."
   ]
  },
  {
   "cell_type": "code",
   "execution_count": 13,
   "metadata": {},
   "outputs": [
    {
     "name": "stdout",
     "output_type": "stream",
     "text": [
      "{'good': True, 'movie': True, ('very', 'good'): True, ('good', 'movie'): True}\n"
     ]
    }
   ],
   "source": [
    "def bag_of_all_words(words, n=2):\n",
    "    words_clean = clean_words(words, stopwords_english)\n",
    "    words_clean_for_bigrams = clean_words(words, stopwords_english_for_bigrams)\n",
    " \n",
    "    unigram_features = bag_of_words(words_clean)\n",
    "    bigram_features = bag_of_ngrams(words_clean_for_bigrams)\n",
    " \n",
    "    all_features = unigram_features.copy()\n",
    "    all_features.update(bigram_features)\n",
    " \n",
    "    return all_features\n",
    " \n",
    "print(bag_of_all_words(words))"
   ]
  },
  {
   "cell_type": "markdown",
   "metadata": {},
   "source": [
    "## Working with NLTK movie reviews dataset"
   ]
  },
  {
   "cell_type": "code",
   "execution_count": 14,
   "metadata": {},
   "outputs": [],
   "source": [
    "from nltk.corpus import movie_reviews \n",
    " \n",
    "pos_reviews = []\n",
    "\n",
    "for fileid in movie_reviews.fileids('pos'):\n",
    "    words = movie_reviews.words(fileid)\n",
    "    pos_reviews.append(words)\n",
    "    \n",
    "neg_reviews = []\n",
    "\n",
    "for fileid in movie_reviews.fileids('neg'):\n",
    "    words = movie_reviews.words(fileid)\n",
    "    neg_reviews.append(words)"
   ]
  },
  {
   "cell_type": "markdown",
   "metadata": {},
   "source": [
    "## Create Feature Set"
   ]
  },
  {
   "cell_type": "code",
   "execution_count": 15,
   "metadata": {},
   "outputs": [],
   "source": [
    "# positive reviews feature set\n",
    "pos_reviews_set = []\n",
    "\n",
    "for words in pos_reviews:\n",
    "    pos_reviews_set.append((bag_of_all_words(words), 'pos'))\n",
    "    \n",
    "# negative reviews feature set\n",
    "neg_reviews_set = []\n",
    "\n",
    "for words in neg_reviews:\n",
    "    neg_reviews_set.append((bag_of_all_words(words), 'neg'))"
   ]
  },
  {
   "cell_type": "code",
   "execution_count": 16,
   "metadata": {},
   "outputs": [
    {
     "name": "stdout",
     "output_type": "stream",
     "text": [
      "({'films': True, 'adapted': True, 'comic': True, 'books': True, 'plenty': True, 'success': True, 'whether': True, 'superheroes': True, 'batman': True, 'superman': True, 'spawn': True, 'geared': True, 'toward': True, 'kids': True, 'casper': True, 'arthouse': True, 'crowd': True, 'ghost': True, 'world': True, 'never': True, 'really': True, 'book': True, 'like': True, 'hell': True, 'starters': True, 'created': True, 'alan': True, 'moore': True, 'eddie': True, 'campbell': True, 'brought': True, 'medium': True, 'whole': True, 'new': True, 'level': True, 'mid': True, '80s': True, '12': True, 'part': True, 'series': True, 'called': True, 'watchmen': True, 'say': True, 'thoroughly': True, 'researched': True, 'subject': True, 'jack': True, 'ripper': True, 'would': True, 'saying': True, 'michael': True, 'jackson': True, 'starting': True, 'look': True, 'little': True, 'odd': True, 'graphic': True, 'novel': True, '500': True, 'pages': True, 'long': True, 'includes': True, 'nearly': True, '30': True, 'consist': True, 'nothing': True, 'footnotes': True, 'words': True, 'dismiss': True, 'film': True, 'source': True, 'get': True, 'past': True, 'thing': True, 'might': True, 'find': True, 'another': True, 'stumbling': True, 'block': True, 'directors': True, 'albert': True, 'allen': True, 'hughes': True, 'getting': True, 'brothers': True, 'direct': True, 'seems': True, 'almost': True, 'ludicrous': True, 'casting': True, 'carrot': True, 'top': True, 'well': True, 'anything': True, 'riddle': True, 'better': True, 'set': True, 'ghetto': True, 'features': True, 'violent': True, 'street': True, 'crime': True, 'mad': True, 'geniuses': True, 'behind': True, 'menace': True, 'ii': True, 'society': True, 'question': True, 'course': True, 'whitechapel': True, '1888': True, 'london': True, 'east': True, 'end': True, 'filthy': True, 'sooty': True, 'place': True, 'whores': True, 'unfortunates': True, 'nervous': True, 'mysterious': True, 'psychopath': True, 'carving': True, 'profession': True, 'surgical': True, 'precision': True, 'first': True, 'stiff': True, 'turns': True, 'copper': True, 'peter': True, 'godley': True, 'robbie': True, 'coltrane': True, 'enough': True, 'calls': True, 'inspector': True, 'frederick': True, 'abberline': True, 'johnny': True, 'depp': True, 'blow': True, 'crack': True, 'case': True, 'widower': True, 'prophetic': True, 'dreams': True, 'unsuccessfully': True, 'tries': True, 'quell': True, 'copious': True, 'amounts': True, 'absinthe': True, 'opium': True, 'upon': True, 'arriving': True, 'befriends': True, 'unfortunate': True, 'named': True, 'mary': True, 'kelly': True, 'heather': True, 'graham': True, 'proceeds': True, 'investigate': True, 'horribly': True, 'gruesome': True, 'crimes': True, 'even': True, 'police': True, 'surgeon': True, 'stomach': True, 'think': True, 'anyone': True, 'needs': True, 'briefed': True, 'go': True, 'particulars': True, 'unique': True, 'interesting': True, 'theory': True, 'identity': True, 'killer': True, 'reasons': True, 'chooses': True, 'slay': True, 'bother': True, 'cloaking': True, 'screenwriters': True, 'terry': True, 'hayes': True, 'vertical': True, 'limit': True, 'rafael': True, 'yglesias': True, 'les': True, 'mis': True, 'rables': True, 'good': True, 'job': True, 'keeping': True, 'hidden': True, 'viewers': True, 'funny': True, 'watch': True, 'locals': True, 'blindly': True, 'point': True, 'finger': True, 'blame': True, 'jews': True, 'indians': True, 'englishman': True, 'could': True, 'capable': True, 'committing': True, 'ghastly': True, 'acts': True, 'ending': True, 'whistling': True, 'stonecutters': True, 'song': True, 'simpsons': True, 'days': True, 'holds': True, 'back': True, 'electric': True, 'car': True, 'made': True, 'steve': True, 'guttenberg': True, 'star': True, 'worry': True, 'make': True, 'sense': True, 'see': True, 'onto': True, 'appearance': True, 'certainly': True, 'dark': True, 'bleak': True, 'surprising': True, 'much': True, 'looks': True, 'tim': True, 'burton': True, 'planet': True, 'apes': True, 'times': True, 'sleepy': True, 'hollow': True, '2': True, 'print': True, 'saw': True, 'completely': True, 'finished': True, 'color': True, 'music': True, 'finalized': True, 'comments': True, 'marilyn': True, 'manson': True, 'cinematographer': True, 'deming': True, 'word': True, 'ably': True, 'captures': True, 'dreariness': True, 'victorian': True, 'era': True, 'helped': True, 'flashy': True, 'killing': True, 'scenes': True, 'remind': True, 'crazy': True, 'flashbacks': True, 'twin': True, 'peaks': True, 'though': True, 'violence': True, 'pales': True, 'comparison': True, 'black': True, 'white': True, 'oscar': True, 'winner': True, 'martin': True, 'childs': True, 'shakespeare': True, 'love': True, 'production': True, 'design': True, 'original': True, 'prague': True, 'surroundings': True, 'one': True, 'creepy': True, 'acting': True, 'solid': True, 'dreamy': True, 'turning': True, 'typically': True, 'strong': True, 'performance': True, 'deftly': True, 'handling': True, 'british': True, 'accent': True, 'ians': True, 'holm': True, 'joe': True, 'gould': True, 'secret': True, 'richardson': True, '102': True, 'dalmatians': True, 'log': True, 'great': True, 'supporting': True, 'roles': True, 'big': True, 'surprise': True, 'cringed': True, 'time': True, 'opened': True, 'mouth': True, 'imagining': True, 'attempt': True, 'irish': True, 'actually': True, 'half': True, 'bad': True, 'however': True, '00': True, 'r': True, 'gore': True, 'sexuality': True, 'language': True, 'drug': True, 'content': True, ('films', 'adapted'): True, ('adapted', 'comic'): True, ('comic', 'books'): True, ('books', 'plenty'): True, ('plenty', 'success'): True, ('success', 'whether'): True, ('whether', 'superheroes'): True, ('superheroes', 'batman'): True, ('batman', 'superman'): True, ('superman', 'spawn'): True, ('spawn', 'geared'): True, ('geared', 'toward'): True, ('toward', 'kids'): True, ('kids', 'casper'): True, ('casper', 'arthouse'): True, ('arthouse', 'crowd'): True, ('crowd', 'ghost'): True, ('ghost', 'world'): True, ('world', 'but'): True, ('but', 'never'): True, ('never', 'really'): True, ('really', 'comic'): True, ('comic', 'book'): True, ('book', 'like'): True, ('like', 'hell'): True, ('hell', 'starters'): True, ('starters', 'created'): True, ('created', 'alan'): True, ('alan', 'moore'): True, ('moore', 'eddie'): True, ('eddie', 'campbell'): True, ('campbell', 'brought'): True, ('brought', 'medium'): True, ('medium', 'whole'): True, ('whole', 'new'): True, ('new', 'level'): True, ('level', 'mid'): True, ('mid', '80s'): True, ('80s', '12'): True, ('12', 'part'): True, ('part', 'series'): True, ('series', 'called'): True, ('called', 'watchmen'): True, ('watchmen', 'say'): True, ('say', 'moore'): True, ('moore', 'campbell'): True, ('campbell', 'thoroughly'): True, ('thoroughly', 'researched'): True, ('researched', 'subject'): True, ('subject', 'jack'): True, ('jack', 'ripper'): True, ('ripper', 'would'): True, ('would', 'like'): True, ('like', 'saying'): True, ('saying', 'michael'): True, ('michael', 'jackson'): True, ('jackson', 'starting'): True, ('starting', 'look'): True, ('look', 'little'): True, ('little', 'odd'): True, ('odd', 'book'): True, ('book', 'graphic'): True, ('graphic', 'novel'): True, ('novel', 'over'): True, ('over', '500'): True, ('500', 'pages'): True, ('pages', 'long'): True, ('long', 'includes'): True, ('includes', 'nearly'): True, ('nearly', '30'): True, ('30', 'more'): True, ('more', 'consist'): True, ('consist', 'nothing'): True, ('nothing', 'but'): True, ('but', 'footnotes'): True, ('footnotes', 'words'): True, ('words', 'dismiss'): True, ('dismiss', 'film'): True, ('film', 'source'): True, ('source', 'get'): True, ('get', 'past'): True, ('past', 'whole'): True, ('whole', 'comic'): True, ('book', 'thing'): True, ('thing', 'might'): True, ('might', 'find'): True, ('find', 'another'): True, ('another', 'stumbling'): True, ('stumbling', 'block'): True, ('block', 'hell'): True, ('hell', 'directors'): True, ('directors', 'albert'): True, ('albert', 'allen'): True, ('allen', 'hughes'): True, ('hughes', 'getting'): True, ('getting', 'hughes'): True, ('hughes', 'brothers'): True, ('brothers', 'direct'): True, ('direct', 'seems'): True, ('seems', 'almost'): True, ('almost', 'ludicrous'): True, ('ludicrous', 'casting'): True, ('casting', 'carrot'): True, ('carrot', 'top'): True, ('top', 'well'): True, ('well', 'anything'): True, ('anything', 'but'): True, ('but', 'riddle'): True, ('riddle', 'better'): True, ('better', 'direct'): True, ('direct', 'film'): True, ('film', 'set'): True, ('set', 'ghetto'): True, ('ghetto', 'features'): True, ('features', 'really'): True, ('really', 'violent'): True, ('violent', 'street'): True, ('street', 'crime'): True, ('crime', 'than'): True, ('than', 'mad'): True, ('mad', 'geniuses'): True, ('geniuses', 'behind'): True, ('behind', 'menace'): True, ('menace', 'ii'): True, ('ii', 'society'): True, ('society', 'ghetto'): True, ('ghetto', 'question'): True, ('question', 'course'): True, ('course', 'whitechapel'): True, ('whitechapel', '1888'): True, ('1888', 'london'): True, ('london', 'east'): True, ('east', 'end'): True, ('end', 'filthy'): True, ('filthy', 'sooty'): True, ('sooty', 'place'): True, ('place', 'whores'): True, ('whores', 'called'): True, ('called', 'unfortunates'): True, ('unfortunates', 'starting'): True, ('starting', 'get'): True, ('get', 'little'): True, ('little', 'nervous'): True, ('nervous', 'mysterious'): True, ('mysterious', 'psychopath'): True, ('psychopath', 'carving'): True, ('carving', 'profession'): True, ('profession', 'surgical'): True, ('surgical', 'precision'): True, ('precision', 'first'): True, ('first', 'stiff'): True, ('stiff', 'turns'): True, ('turns', 'copper'): True, ('copper', 'peter'): True, ('peter', 'godley'): True, ('godley', 'robbie'): True, ('robbie', 'coltrane'): True, ('coltrane', 'world'): True, ('world', 'not'): True, ('not', 'enough'): True, ('enough', 'calls'): True, ('calls', 'inspector'): True, ('inspector', 'frederick'): True, ('frederick', 'abberline'): True, ('abberline', 'johnny'): True, ('johnny', 'depp'): True, ('depp', 'blow'): True, ('blow', 'crack'): True, ('crack', 'case'): True, ('case', 'abberline'): True, ('abberline', 'widower'): True, ('widower', 'prophetic'): True, ('prophetic', 'dreams'): True, ('dreams', 'unsuccessfully'): True, ('unsuccessfully', 'tries'): True, ('tries', 'quell'): True, ('quell', 'copious'): True, ('copious', 'amounts'): True, ('amounts', 'absinthe'): True, ('absinthe', 'opium'): True, ('opium', 'upon'): True, ('upon', 'arriving'): True, ('arriving', 'whitechapel'): True, ('whitechapel', 'befriends'): True, ('befriends', 'unfortunate'): True, ('unfortunate', 'named'): True, ('named', 'mary'): True, ('mary', 'kelly'): True, ('kelly', 'heather'): True, ('heather', 'graham'): True, ('graham', 'say'): True, ('say', 'so'): True, ('so', 'proceeds'): True, ('proceeds', 'investigate'): True, ('investigate', 'horribly'): True, ('horribly', 'gruesome'): True, ('gruesome', 'crimes'): True, ('crimes', 'even'): True, ('even', 'police'): True, ('police', 'surgeon'): True, ('surgeon', 'stomach'): True, ('stomach', 'think'): True, ('think', 'anyone'): True, ('anyone', 'needs'): True, ('needs', 'briefed'): True, ('briefed', 'jack'): True, ('ripper', 'so'): True, ('so', 'go'): True, ('go', 'particulars'): True, ('particulars', 'than'): True, ('than', 'say'): True, ('campbell', 'unique'): True, ('unique', 'interesting'): True, ('interesting', 'theory'): True, ('theory', 'identity'): True, ('identity', 'killer'): True, ('killer', 'reasons'): True, ('reasons', 'chooses'): True, ('chooses', 'slay'): True, ('slay', 'comic'): True, ('comic', 'bother'): True, ('bother', 'cloaking'): True, ('cloaking', 'identity'): True, ('identity', 'ripper'): True, ('ripper', 'but'): True, ('but', 'screenwriters'): True, ('screenwriters', 'terry'): True, ('terry', 'hayes'): True, ('hayes', 'vertical'): True, ('vertical', 'limit'): True, ('limit', 'rafael'): True, ('rafael', 'yglesias'): True, ('yglesias', 'les'): True, ('les', 'mis'): True, ('mis', 'rables'): True, ('rables', 'good'): True, ('good', 'job'): True, ('job', 'keeping'): True, ('keeping', 'hidden'): True, ('hidden', 'viewers'): True, ('viewers', 'very'): True, ('very', 'end'): True, ('end', 'funny'): True, ('funny', 'watch'): True, ('watch', 'locals'): True, ('locals', 'blindly'): True, ('blindly', 'point'): True, ('point', 'finger'): True, ('finger', 'blame'): True, ('blame', 'jews'): True, ('jews', 'indians'): True, ('indians', 'englishman'): True, ('englishman', 'could'): True, ('could', 'never'): True, ('never', 'capable'): True, ('capable', 'committing'): True, ('committing', 'such'): True, ('such', 'ghastly'): True, ('ghastly', 'acts'): True, ('acts', 'hell'): True, ('hell', 'ending'): True, ('ending', 'whistling'): True, ('whistling', 'stonecutters'): True, ('stonecutters', 'song'): True, ('song', 'simpsons'): True, ('simpsons', 'days'): True, ('days', 'holds'): True, ('holds', 'back'): True, ('back', 'electric'): True, ('electric', 'car'): True, ('car', 'made'): True, ('made', 'steve'): True, ('steve', 'guttenberg'): True, ('guttenberg', 'star'): True, ('star', 'worry'): True, ('worry', 'make'): True, ('make', 'sense'): True, ('sense', 'see'): True, ('see', 'onto'): True, ('onto', 'hell'): True, ('hell', 'appearance'): True, ('appearance', 'certainly'): True, ('certainly', 'dark'): True, ('dark', 'bleak'): True, ('bleak', 'enough'): True, ('enough', 'surprising'): True, ('surprising', 'see'): True, ('see', 'much'): True, ('much', 'more'): True, ('more', 'looks'): True, ('looks', 'like'): True, ('like', 'tim'): True, ('tim', 'burton'): True, ('burton', 'film'): True, ('film', 'than'): True, ('than', 'planet'): True, ('planet', 'apes'): True, ('apes', 'times'): True, ('times', 'seems'): True, ('seems', 'like'): True, ('like', 'sleepy'): True, ('sleepy', 'hollow'): True, ('hollow', '2'): True, ('2', 'print'): True, ('print', 'saw'): True, ('saw', 'completely'): True, ('completely', 'finished'): True, ('finished', 'color'): True, ('color', 'music'): True, ('music', 'not'): True, ('not', 'finalized'): True, ('finalized', 'so'): True, ('so', 'no'): True, ('no', 'comments'): True, ('comments', 'marilyn'): True, ('marilyn', 'manson'): True, ('manson', 'but'): True, ('but', 'cinematographer'): True, ('cinematographer', 'peter'): True, ('peter', 'deming'): True, ('deming', 'say'): True, ('say', 'word'): True, ('word', 'ably'): True, ('ably', 'captures'): True, ('captures', 'dreariness'): True, ('dreariness', 'victorian'): True, ('victorian', 'era'): True, ('era', 'london'): True, ('london', 'helped'): True, ('helped', 'make'): True, ('make', 'flashy'): True, ('flashy', 'killing'): True, ('killing', 'scenes'): True, ('scenes', 'remind'): True, ('remind', 'crazy'): True, ('crazy', 'flashbacks'): True, ('flashbacks', 'twin'): True, ('twin', 'peaks'): True, ('peaks', 'even'): True, ('even', 'though'): True, ('though', 'violence'): True, ('violence', 'film'): True, ('film', 'pales'): True, ('pales', 'comparison'): True, ('comparison', 'black'): True, ('black', 'white'): True, ('white', 'comic'): True, ('comic', 'oscar'): True, ('oscar', 'winner'): True, ('winner', 'martin'): True, ('martin', 'childs'): True, ('childs', 'shakespeare'): True, ('shakespeare', 'love'): True, ('love', 'production'): True, ('production', 'design'): True, ('design', 'turns'): True, ('turns', 'original'): True, ('original', 'prague'): True, ('prague', 'surroundings'): True, ('surroundings', 'one'): True, ('one', 'creepy'): True, ('creepy', 'place'): True, ('place', 'even'): True, ('even', 'acting'): True, ('acting', 'hell'): True, ('hell', 'solid'): True, ('solid', 'dreamy'): True, ('dreamy', 'depp'): True, ('depp', 'turning'): True, ('turning', 'typically'): True, ('typically', 'strong'): True, ('strong', 'performance'): True, ('performance', 'deftly'): True, ('deftly', 'handling'): True, ('handling', 'british'): True, ('british', 'accent'): True, ('accent', 'ians'): True, ('ians', 'holm'): True, ('holm', 'joe'): True, ('joe', 'gould'): True, ('gould', 'secret'): True, ('secret', 'richardson'): True, ('richardson', '102'): True, ('102', 'dalmatians'): True, ('dalmatians', 'log'): True, ('log', 'great'): True, ('great', 'supporting'): True, ('supporting', 'roles'): True, ('roles', 'but'): True, ('but', 'big'): True, ('big', 'surprise'): True, ('surprise', 'graham'): True, ('graham', 'cringed'): True, ('cringed', 'first'): True, ('first', 'time'): True, ('time', 'opened'): True, ('opened', 'mouth'): True, ('mouth', 'imagining'): True, ('imagining', 'attempt'): True, ('attempt', 'irish'): True, ('irish', 'accent'): True, ('accent', 'but'): True, ('but', 'actually'): True, ('actually', 'half'): True, ('half', 'bad'): True, ('bad', 'film'): True, ('film', 'however'): True, ('however', 'good'): True, ('good', '2'): True, ('2', '00'): True, ('00', 'r'): True, ('r', 'strong'): True, ('strong', 'violence'): True, ('violence', 'gore'): True, ('gore', 'sexuality'): True, ('sexuality', 'language'): True, ('language', 'drug'): True, ('drug', 'content'): True}, 'pos')\n"
     ]
    }
   ],
   "source": [
    "print(pos_reviews_set[0])"
   ]
  },
  {
   "cell_type": "code",
   "execution_count": 17,
   "metadata": {},
   "outputs": [
    {
     "name": "stdout",
     "output_type": "stream",
     "text": [
      "({'plot': True, 'two': True, 'teen': True, 'couples': True, 'go': True, 'church': True, 'party': True, 'drink': True, 'drive': True, 'get': True, 'accident': True, 'one': True, 'guys': True, 'dies': True, 'girlfriend': True, 'continues': True, 'see': True, 'life': True, 'nightmares': True, 'deal': True, 'watch': True, 'movie': True, 'sorta': True, 'find': True, 'critique': True, 'mind': True, 'fuck': True, 'generation': True, 'touches': True, 'cool': True, 'idea': True, 'presents': True, 'bad': True, 'package': True, 'makes': True, 'review': True, 'even': True, 'harder': True, 'write': True, 'since': True, 'generally': True, 'applaud': True, 'films': True, 'attempt': True, 'break': True, 'mold': True, 'mess': True, 'head': True, 'lost': True, 'highway': True, 'memento': True, 'good': True, 'ways': True, 'making': True, 'types': True, 'folks': True, 'snag': True, 'correctly': True, 'seem': True, 'taken': True, 'pretty': True, 'neat': True, 'concept': True, 'executed': True, 'terribly': True, 'problems': True, 'well': True, 'main': True, 'problem': True, 'simply': True, 'jumbled': True, 'starts': True, 'normal': True, 'downshifts': True, 'fantasy': True, 'world': True, 'audience': True, 'member': True, 'going': True, 'dreams': True, 'characters': True, 'coming': True, 'back': True, 'dead': True, 'others': True, 'look': True, 'like': True, 'strange': True, 'apparitions': True, 'disappearances': True, 'looooot': True, 'chase': True, 'scenes': True, 'tons': True, 'weird': True, 'things': True, 'happen': True, 'explained': True, 'personally': True, 'trying': True, 'unravel': True, 'film': True, 'every': True, 'give': True, 'clue': True, 'kind': True, 'fed': True, 'biggest': True, 'obviously': True, 'got': True, 'big': True, 'secret': True, 'hide': True, 'seems': True, 'want': True, 'completely': True, 'final': True, 'five': True, 'minutes': True, 'make': True, 'entertaining': True, 'thrilling': True, 'engaging': True, 'meantime': True, 'really': True, 'sad': True, 'part': True, 'arrow': True, 'dig': True, 'flicks': True, 'actually': True, 'figured': True, 'half': True, 'way': True, 'point': True, 'strangeness': True, 'start': True, 'little': True, 'bit': True, 'sense': True, 'still': True, 'guess': True, 'bottom': True, 'line': True, 'movies': True, 'always': True, 'sure': True, 'given': True, 'password': True, 'enter': True, 'understanding': True, 'mean': True, 'showing': True, 'melissa': True, 'sagemiller': True, 'running': True, 'away': True, 'visions': True, '20': True, 'throughout': True, 'plain': True, 'lazy': True, 'okay': True, 'people': True, 'chasing': True, 'know': True, 'need': True, 'giving': True, 'us': True, 'different': True, 'offering': True, 'insight': True, 'apparently': True, 'studio': True, 'took': True, 'director': True, 'chopped': True, 'shows': True, 'might': True, 'decent': True, 'somewhere': True, 'suits': True, 'decided': True, 'turning': True, 'music': True, 'video': True, 'edge': True, 'would': True, 'actors': True, 'although': True, 'wes': True, 'bentley': True, 'seemed': True, 'playing': True, 'exact': True, 'character': True, 'american': True, 'beauty': True, 'new': True, 'neighborhood': True, 'kudos': True, 'holds': True, 'entire': True, 'feeling': True, 'unraveling': True, 'overall': True, 'stick': True, 'entertain': True, 'confusing': True, 'rarely': True, 'excites': True, 'feels': True, 'redundant': True, 'runtime': True, 'despite': True, 'ending': True, 'explanation': True, 'craziness': True, 'came': True, 'oh': True, 'horror': True, 'slasher': True, 'flick': True, 'packaged': True, 'someone': True, 'assuming': True, 'genre': True, 'hot': True, 'kids': True, 'also': True, 'wrapped': True, 'production': True, 'years': True, 'ago': True, 'sitting': True, 'shelves': True, 'ever': True, 'whatever': True, 'skip': True, 'joblo': True, 'nightmare': True, 'elm': True, 'street': True, '3': True, '7': True, '10': True, 'blair': True, 'witch': True, '2': True, 'crow': True, '9': True, 'salvation': True, '4': True, 'stir': True, 'echoes': True, '8': True, ('plot', 'two'): True, ('two', 'teen'): True, ('teen', 'couples'): True, ('couples', 'go'): True, ('go', 'church'): True, ('church', 'party'): True, ('party', 'drink'): True, ('drink', 'drive'): True, ('drive', 'get'): True, ('get', 'accident'): True, ('accident', 'one'): True, ('one', 'guys'): True, ('guys', 'dies'): True, ('dies', 'but'): True, ('but', 'girlfriend'): True, ('girlfriend', 'continues'): True, ('continues', 'see'): True, ('see', 'life'): True, ('life', 'nightmares'): True, ('nightmares', 'deal'): True, ('deal', 'watch'): True, ('watch', 'movie'): True, ('movie', 'sorta'): True, ('sorta', 'find'): True, ('find', 'critique'): True, ('critique', 'mind'): True, ('mind', 'fuck'): True, ('fuck', 'movie'): True, ('movie', 'teen'): True, ('teen', 'generation'): True, ('generation', 'touches'): True, ('touches', 'very'): True, ('very', 'cool'): True, ('cool', 'idea'): True, ('idea', 'but'): True, ('but', 'presents'): True, ('presents', 'very'): True, ('very', 'bad'): True, ('bad', 'package'): True, ('package', 'makes'): True, ('makes', 'review'): True, ('review', 'even'): True, ('even', 'harder'): True, ('harder', 'one'): True, ('one', 'write'): True, ('write', 'since'): True, ('since', 'generally'): True, ('generally', 'applaud'): True, ('applaud', 'films'): True, ('films', 'attempt'): True, ('attempt', 'break'): True, ('break', 'mold'): True, ('mold', 'mess'): True, ('mess', 'head'): True, ('head', 'such'): True, ('such', 'lost'): True, ('lost', 'highway'): True, ('highway', 'memento'): True, ('memento', 'but'): True, ('but', 'good'): True, ('good', 'bad'): True, ('bad', 'ways'): True, ('ways', 'making'): True, ('making', 'types'): True, ('types', 'films'): True, ('films', 'folks'): True, ('folks', 'just'): True, ('just', 'snag'): True, ('snag', 'one'): True, ('one', 'correctly'): True, ('correctly', 'seem'): True, ('seem', 'taken'): True, ('taken', 'pretty'): True, ('pretty', 'neat'): True, ('neat', 'concept'): True, ('concept', 'but'): True, ('but', 'executed'): True, ('executed', 'terribly'): True, ('terribly', 'so'): True, ('so', 'problems'): True, ('problems', 'movie'): True, ('movie', 'well'): True, ('well', 'main'): True, ('main', 'problem'): True, ('problem', 'simply'): True, ('simply', 'too'): True, ('too', 'jumbled'): True, ('jumbled', 'starts'): True, ('starts', 'off'): True, ('off', 'normal'): True, ('normal', 'but'): True, ('but', 'downshifts'): True, ('downshifts', 'fantasy'): True, ('fantasy', 'world'): True, ('world', 'audience'): True, ('audience', 'member'): True, ('member', 'no'): True, ('no', 'idea'): True, ('idea', 'going'): True, ('going', 'dreams'): True, ('dreams', 'characters'): True, ('characters', 'coming'): True, ('coming', 'back'): True, ('back', 'dead'): True, ('dead', 'others'): True, ('others', 'look'): True, ('look', 'like'): True, ('like', 'dead'): True, ('dead', 'strange'): True, ('strange', 'apparitions'): True, ('apparitions', 'disappearances'): True, ('disappearances', 'looooot'): True, ('looooot', 'chase'): True, ('chase', 'scenes'): True, ('scenes', 'tons'): True, ('tons', 'weird'): True, ('weird', 'things'): True, ('things', 'happen'): True, ('happen', 'most'): True, ('most', 'simply'): True, ('simply', 'not'): True, ('not', 'explained'): True, ('explained', 'personally'): True, ('personally', 'mind'): True, ('mind', 'trying'): True, ('trying', 'unravel'): True, ('unravel', 'film'): True, ('film', 'every'): True, ('every', 'but'): True, ('but', 'give'): True, ('give', 'clue'): True, ('clue', 'over'): True, ('over', 'over'): True, ('over', 'get'): True, ('get', 'kind'): True, ('kind', 'fed'): True, ('fed', 'film'): True, ('film', 'biggest'): True, ('biggest', 'problem'): True, ('problem', 'obviously'): True, ('obviously', 'got'): True, ('got', 'big'): True, ('big', 'secret'): True, ('secret', 'hide'): True, ('hide', 'but'): True, ('but', 'seems'): True, ('seems', 'want'): True, ('want', 'hide'): True, ('hide', 'completely'): True, ('completely', 'final'): True, ('final', 'five'): True, ('five', 'minutes'): True, ('minutes', 'make'): True, ('make', 'things'): True, ('things', 'entertaining'): True, ('entertaining', 'thrilling'): True, ('thrilling', 'even'): True, ('even', 'engaging'): True, ('engaging', 'meantime'): True, ('meantime', 'not'): True, ('not', 'really'): True, ('really', 'sad'): True, ('sad', 'part'): True, ('part', 'arrow'): True, ('arrow', 'dig'): True, ('dig', 'flicks'): True, ('flicks', 'like'): True, ('like', 'so'): True, ('so', 'actually'): True, ('actually', 'figured'): True, ('figured', 'most'): True, ('most', 'half'): True, ('half', 'way'): True, ('way', 'point'): True, ('point', 'so'): True, ('so', 'strangeness'): True, ('strangeness', 'start'): True, ('start', 'make'): True, ('make', 'little'): True, ('little', 'bit'): True, ('bit', 'sense'): True, ('sense', 'but'): True, ('but', 'still'): True, ('still', 'make'): True, ('make', 'film'): True, ('film', 'more'): True, ('more', 'entertaining'): True, ('entertaining', 'guess'): True, ('guess', 'bottom'): True, ('bottom', 'line'): True, ('line', 'movies'): True, ('movies', 'like'): True, ('like', 'always'): True, ('always', 'make'): True, ('make', 'sure'): True, ('sure', 'audience'): True, ('audience', 'even'): True, ('even', 'given'): True, ('given', 'secret'): True, ('secret', 'password'): True, ('password', 'enter'): True, ('enter', 'world'): True, ('world', 'understanding'): True, ('understanding', 'mean'): True, ('mean', 'showing'): True, ('showing', 'melissa'): True, ('melissa', 'sagemiller'): True, ('sagemiller', 'running'): True, ('running', 'away'): True, ('away', 'visions'): True, ('visions', '20'): True, ('20', 'minutes'): True, ('minutes', 'throughout'): True, ('throughout', 'movie'): True, ('movie', 'just'): True, ('just', 'plain'): True, ('plain', 'lazy'): True, ('lazy', 'okay'): True, ('okay', 'get'): True, ('get', 'people'): True, ('people', 'chasing'): True, ('chasing', 'know'): True, ('know', 'really'): True, ('really', 'need'): True, ('need', 'see'): True, ('see', 'over'): True, ('over', 'giving'): True, ('giving', 'us'): True, ('us', 'different'): True, ('different', 'scenes'): True, ('scenes', 'offering'): True, ('offering', 'insight'): True, ('insight', 'strangeness'): True, ('strangeness', 'going'): True, ('going', 'movie'): True, ('movie', 'apparently'): True, ('apparently', 'studio'): True, ('studio', 'took'): True, ('took', 'film'): True, ('film', 'away'): True, ('away', 'director'): True, ('director', 'chopped'): True, ('chopped', 'shows'): True, ('shows', 'might'): True, ('might', 'pretty'): True, ('pretty', 'decent'): True, ('decent', 'teen'): True, ('teen', 'mind'): True, ('movie', 'somewhere'): True, ('somewhere', 'but'): True, ('but', 'guess'): True, ('guess', 'suits'): True, ('suits', 'decided'): True, ('decided', 'turning'): True, ('turning', 'music'): True, ('music', 'video'): True, ('video', 'little'): True, ('little', 'edge'): True, ('edge', 'would'): True, ('would', 'make'): True, ('make', 'more'): True, ('more', 'sense'): True, ('sense', 'actors'): True, ('actors', 'pretty'): True, ('pretty', 'good'): True, ('good', 'most'): True, ('most', 'part'): True, ('part', 'although'): True, ('although', 'wes'): True, ('wes', 'bentley'): True, ('bentley', 'just'): True, ('just', 'seemed'): True, ('seemed', 'playing'): True, ('playing', 'exact'): True, ('exact', 'character'): True, ('character', 'american'): True, ('american', 'beauty'): True, ('beauty', 'only'): True, ('only', 'new'): True, ('new', 'neighborhood'): True, ('neighborhood', 'but'): True, ('but', 'biggest'): True, ('biggest', 'kudos'): True, ('kudos', 'go'): True, ('go', 'sagemiller'): True, ('sagemiller', 'holds'): True, ('holds', 'throughout'): True, ('throughout', 'entire'): True, ('entire', 'film'): True, ('film', 'actually'): True, ('actually', 'feeling'): True, ('feeling', 'character'): True, ('character', 'unraveling'): True, ('unraveling', 'overall'): True, ('overall', 'film'): True, ('film', 'stick'): True, ('stick', 'entertain'): True, ('entertain', 'confusing'): True, ('confusing', 'rarely'): True, ('rarely', 'excites'): True, ('excites', 'feels'): True, ('feels', 'pretty'): True, ('pretty', 'redundant'): True, ('redundant', 'most'): True, ('most', 'runtime'): True, ('runtime', 'despite'): True, ('despite', 'pretty'): True, ('pretty', 'cool'): True, ('cool', 'ending'): True, ('ending', 'explanation'): True, ('explanation', 'craziness'): True, ('craziness', 'came'): True, ('came', 'oh'): True, ('oh', 'way'): True, ('way', 'not'): True, ('not', 'horror'): True, ('horror', 'teen'): True, ('teen', 'slasher'): True, ('slasher', 'flick'): True, ('flick', 'just'): True, ('just', 'packaged'): True, ('packaged', 'look'): True, ('look', 'way'): True, ('way', 'someone'): True, ('someone', 'apparently'): True, ('apparently', 'assuming'): True, ('assuming', 'genre'): True, ('genre', 'still'): True, ('still', 'hot'): True, ('hot', 'kids'): True, ('kids', 'also'): True, ('also', 'wrapped'): True, ('wrapped', 'production'): True, ('production', 'two'): True, ('two', 'years'): True, ('years', 'ago'): True, ('ago', 'sitting'): True, ('sitting', 'shelves'): True, ('shelves', 'ever'): True, ('ever', 'since'): True, ('since', 'whatever'): True, ('whatever', 'skip'): True, ('skip', 'joblo'): True, ('joblo', 'coming'): True, ('coming', 'nightmare'): True, ('nightmare', 'elm'): True, ('elm', 'street'): True, ('street', '3'): True, ('3', '7'): True, ('7', '10'): True, ('10', 'blair'): True, ('blair', 'witch'): True, ('witch', '2'): True, ('2', '7'): True, ('10', 'crow'): True, ('crow', '9'): True, ('9', '10'): True, ('crow', 'salvation'): True, ('salvation', '4'): True, ('4', '10'): True, ('10', 'lost'): True, ('highway', '10'): True, ('10', '10'): True, ('10', 'memento'): True, ('memento', '10'): True, ('10', 'others'): True, ('others', '9'): True, ('10', 'stir'): True, ('stir', 'echoes'): True, ('echoes', '8'): True, ('8', '10'): True}, 'neg')\n"
     ]
    }
   ],
   "source": [
    "print(neg_reviews_set[0])"
   ]
  },
  {
   "cell_type": "markdown",
   "metadata": {},
   "source": [
    "## Create Train and Test Set\n",
    "\n",
    "There are 1000 positive reviews set and 1000 negative reviews set. We take 20% (i.e. 200) of positive reviews and 20% (i.e. 200) of negative reviews as the test set. The remaining negative and positive reviews will be taken as the training set."
   ]
  },
  {
   "cell_type": "code",
   "execution_count": 18,
   "metadata": {},
   "outputs": [
    {
     "name": "stdout",
     "output_type": "stream",
     "text": [
      "1000 1000\n",
      "Data testing:  400\n",
      "Data training:  1600\n"
     ]
    }
   ],
   "source": [
    "print (len(pos_reviews_set), len(neg_reviews_set)) # Output: (1000, 1000)\n",
    " \n",
    "# radomize pos_reviews_set and neg_reviews_set\n",
    "# doing so will output different accuracy result everytime we run the program\n",
    "from random import shuffle \n",
    "\n",
    "shuffle(pos_reviews_set)\n",
    "shuffle(neg_reviews_set)\n",
    " \n",
    "test_set = pos_reviews_set[:200] + neg_reviews_set[:200]\n",
    "train_set = pos_reviews_set[200:] + neg_reviews_set[200:]\n",
    " \n",
    "print(\"Data testing: \", len(test_set))\n",
    "print(\"Data training: \",len(train_set))"
   ]
  },
  {
   "cell_type": "markdown",
   "metadata": {},
   "source": [
    "## Training Classifier and Calculating Accuracy\n",
    "\n",
    "We train Naive Bayes Classifier using the training set and calculate the classification accuracy of the trained classifier using the test set."
   ]
  },
  {
   "cell_type": "code",
   "execution_count": 19,
   "metadata": {},
   "outputs": [
    {
     "name": "stdout",
     "output_type": "stream",
     "text": [
      "0.7825\n",
      "Most Informative Features\n",
      "                 idiotic = True              neg : pos    =     21.0 : 1.0\n",
      "             magnificent = True              pos : neg    =     19.0 : 1.0\n",
      "                   sucks = True              neg : pos    =     13.7 : 1.0\n",
      "               ludicrous = True              neg : pos    =     12.6 : 1.0\n",
      "                chilling = True              pos : neg    =     12.3 : 1.0\n",
      "                  seagal = True              neg : pos    =     12.3 : 1.0\n",
      "        ('one', 'worst') = True              neg : pos    =     12.2 : 1.0\n",
      "    ('steven', 'seagal') = True              neg : pos    =     11.7 : 1.0\n",
      "       ('quite', 'well') = True              pos : neg    =     11.7 : 1.0\n",
      "     ('saving', 'grace') = True              neg : pos    =     11.7 : 1.0\n",
      "None\n"
     ]
    }
   ],
   "source": [
    "from nltk import classify\n",
    "from nltk import NaiveBayesClassifier\n",
    " \n",
    "classifier = NaiveBayesClassifier.train(train_set)\n",
    " \n",
    "accuracy = classify.accuracy(classifier, test_set)\n",
    "print(accuracy) # Output: 0.8025\n",
    " \n",
    "print (classifier.show_most_informative_features(10))"
   ]
  },
  {
   "cell_type": "markdown",
   "metadata": {},
   "source": [
    "**Note:**\n",
    "\n",
    "+ The accuracy of the classifier has significantly increased when trained with combined feature set (unigram + bigram).\n",
    "+ Accuracy was 73% while using only Unigram features.\n",
    "+ Accuracy has increased to 80% while using combined (unigram + bigram) features"
   ]
  },
  {
   "cell_type": "markdown",
   "metadata": {},
   "source": [
    "## Testing Classifier with Custom Review\n",
    "\n",
    "We provide custom review text and check the classification output of the trained classifier. The classifier correctly predicts both negative and positive reviews provided."
   ]
  },
  {
   "cell_type": "markdown",
   "metadata": {},
   "source": [
    "### Test with custome review 1"
   ]
  },
  {
   "cell_type": "code",
   "execution_count": 20,
   "metadata": {},
   "outputs": [],
   "source": [
    "from nltk.tokenize import word_tokenize\n",
    "\n",
    "custom_review = \"Might as well watch the cut scenes from a video game, the cgi was poorly implemented. The villain absolutely pointless. Superman's Resurrection wasted, why not give him a few movies to find a villain worthy and build suspense? Each of the characters in twisted to ape the Avengers in their roles, especially Flash/Spidey but with non of the depth. Truly a pointless exercise and a wasted opportunity, spare yourself the disappointment. How it is an 8+ on here discredits IMDb. Such a shame. :(\"\n",
    "custom_review_tokens = word_tokenize(custom_review)"
   ]
  },
  {
   "cell_type": "markdown",
   "metadata": {},
   "source": [
    "### Train and classify custome review 1"
   ]
  },
  {
   "cell_type": "code",
   "execution_count": 21,
   "metadata": {},
   "outputs": [
    {
     "name": "stdout",
     "output_type": "stream",
     "text": [
      "Classificate as:  neg\n",
      "Classified as:  <ProbDist with 2 samples>\n",
      "Classification category:  neg\n",
      "Negative probability :  0.9997604582337178\n",
      "Positive probability :  0.00023954176628309255\n"
     ]
    }
   ],
   "source": [
    "custom_review_set = bag_of_all_words(custom_review_tokens)\n",
    "print(\"Classificate as: \", classifier.classify(custom_review_set))\n",
    " \n",
    "# probability result\n",
    "prob_result = classifier.prob_classify(custom_review_set)\n",
    "\n",
    "print(\"Classified as: \", prob_result)\n",
    "print(\"Classification category: \", prob_result.max())\n",
    "print(\"Negative probability : \", prob_result.prob(\"neg\"))\n",
    "print(\"Positive probability : \", prob_result.prob(\"pos\"))"
   ]
  },
  {
   "cell_type": "markdown",
   "metadata": {},
   "source": [
    "### Test with custome review 2"
   ]
  },
  {
   "cell_type": "code",
   "execution_count": 22,
   "metadata": {},
   "outputs": [],
   "source": [
    "custom_review = \"I have never seen such an amazing film since I saw The Shawshank Redemption. Shawshank encompasses friendships, hardships, hopes, and dreams. And what is so great about the movie is that it moves you, it gives you hope. Even though the circumstances between the characters and the viewers are quite different, you don't feel that far removed from what the characters are going through.\"\n",
    "custom_review_tokens = word_tokenize(custom_review)"
   ]
  },
  {
   "cell_type": "markdown",
   "metadata": {},
   "source": [
    "### Train and classify custome review 2"
   ]
  },
  {
   "cell_type": "code",
   "execution_count": 23,
   "metadata": {},
   "outputs": [
    {
     "name": "stdout",
     "output_type": "stream",
     "text": [
      "Classificate as:  pos\n",
      "Classified as:  <ProbDist with 2 samples>\n",
      "Classification category:  pos\n",
      "Negative probability :  6.385517857581553e-09\n",
      "Positive probability :  0.9999999936144807\n"
     ]
    }
   ],
   "source": [
    "custom_review_set = bag_of_all_words(custom_review_tokens)\n",
    "print(\"Classificate as: \", classifier.classify(custom_review_set))\n",
    " \n",
    "# probability result\n",
    "prob_result = classifier.prob_classify(custom_review_set)\n",
    "\n",
    "print(\"Classified as: \", prob_result)\n",
    "print(\"Classification category: \", prob_result.max())\n",
    "print(\"Negative probability : \", prob_result.prob(\"neg\"))\n",
    "print(\"Positive probability : \", prob_result.prob(\"pos\"))"
   ]
  },
  {
   "cell_type": "code",
   "execution_count": null,
   "metadata": {},
   "outputs": [],
   "source": []
  }
 ],
 "metadata": {
  "kernelspec": {
   "display_name": "Python 3",
   "language": "python",
   "name": "python3"
  },
  "language_info": {
   "codemirror_mode": {
    "name": "ipython",
    "version": 3
   },
   "file_extension": ".py",
   "mimetype": "text/x-python",
   "name": "python",
   "nbconvert_exporter": "python",
   "pygments_lexer": "ipython3",
   "version": "3.7.1"
  }
 },
 "nbformat": 4,
 "nbformat_minor": 2
}
